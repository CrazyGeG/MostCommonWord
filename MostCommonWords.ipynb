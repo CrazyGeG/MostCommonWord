{
 "cells": [
  {
   "cell_type": "markdown",
   "id": "10e9da21",
   "metadata": {},
   "source": [
    "An Yu\n",
    "Project: Word Frequency in Classic Novels (DataCamp)"
   ]
  },
  {
   "cell_type": "code",
   "execution_count": 22,
   "id": "10f31503",
   "metadata": {},
   "outputs": [
    {
     "name": "stderr",
     "output_type": "stream",
     "text": [
      "[nltk_data] Downloading package stopwords to /Users/anyu/nltk_data...\n",
      "[nltk_data]   Package stopwords is already up-to-date!\n"
     ]
    },
    {
     "data": {
      "text/plain": [
       "True"
      ]
     },
     "execution_count": 22,
     "metadata": {},
     "output_type": "execute_result"
    }
   ],
   "source": [
    "import requests\n",
    "from bs4 import BeautifulSoup\n",
    "import nltk\n",
    "from nltk.tokenize import word_tokenize\n",
    "from nltk.tokenize import regexp_tokenize\n",
    "from nltk.corpus import stopwords\n",
    "from collections import Counter\n",
    "nltk.download('stopwords')"
   ]
  },
  {
   "cell_type": "code",
   "execution_count": 33,
   "id": "8cfadf9b",
   "metadata": {},
   "outputs": [],
   "source": [
    "url = \"https://s3.amazonaws.com/assets.datacamp.com/production/project_147/datasets/2701-h.htm\"\n",
    "r = requests.get(url)\n",
    "r.encoding = 'utf-8'\n",
    "html = r.text\n",
    "\n",
    "soup = BeautifulSoup(html)\n",
    "text = soup.get_text()\n",
    "\n",
    "tokenized_only_word = regexp_tokenize(text,r\"\\w+\")\n",
    "words = [t.lower() for t in tokenized_only_word]\n",
    "\n",
    "no_stops = [t for t in words if t not in stopwords.words('english') ]\n",
    "\n",
    "count = Counter(no_stops)\n",
    "top_2 = count.most_common(2)\n"
   ]
  },
  {
   "cell_type": "code",
   "execution_count": null,
   "id": "bba67c3b",
   "metadata": {},
   "outputs": [],
   "source": []
  }
 ],
 "metadata": {
  "kernelspec": {
   "display_name": "Python 3",
   "language": "python",
   "name": "python3"
  },
  "language_info": {
   "codemirror_mode": {
    "name": "ipython",
    "version": 3
   },
   "file_extension": ".py",
   "mimetype": "text/x-python",
   "name": "python",
   "nbconvert_exporter": "python",
   "pygments_lexer": "ipython3",
   "version": "3.8.8"
  }
 },
 "nbformat": 4,
 "nbformat_minor": 5
}
